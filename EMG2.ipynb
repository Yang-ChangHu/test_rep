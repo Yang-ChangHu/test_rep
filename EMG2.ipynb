{
 "cells": [
  {
   "cell_type": "code",
   "execution_count": 1,
   "metadata": {},
   "outputs": [],
   "source": [
    "import sklearn\n",
    "import pandas as pd"
   ]
  },
  {
   "cell_type": "markdown",
   "metadata": {},
   "source": [
    "# 读取数据和处理数据\n",
    "\n"
   ]
  },
  {
   "cell_type": "markdown",
   "metadata": {},
   "source": [
    "获取数据路径列表"
   ]
  },
  {
   "cell_type": "code",
   "execution_count": 2,
   "metadata": {},
   "outputs": [],
   "source": [
    "import os \n",
    "filePath = 'D:\\\\emg_data\\\\20201103\\\\YCH\\\\featureData\\\\' \n",
    "dir_paths=os.listdir(filePath)"
   ]
  },
  {
   "cell_type": "code",
   "execution_count": 3,
   "metadata": {},
   "outputs": [
    {
     "data": {
      "text/plain": [
       "['EMG19_31_33_five_1.txt',\n",
       " 'EMG19_31_33_five_2.txt',\n",
       " 'EMG19_31_33_five_3.txt',\n",
       " 'EMG19_31_33_good_1.txt',\n",
       " 'EMG19_31_33_good_2.txt',\n",
       " 'EMG19_31_33_good_3.txt',\n",
       " 'EMG19_31_33_one_1.txt',\n",
       " 'EMG19_31_33_one_2.txt',\n",
       " 'EMG19_31_33_one_3.txt',\n",
       " 'EMG19_31_33_six_1.txt',\n",
       " 'EMG19_31_33_six_2.txt',\n",
       " 'EMG19_31_33_six_3.txt',\n",
       " 'EMG19_31_33_ten_1.txt',\n",
       " 'EMG19_31_33_ten_2.txt',\n",
       " 'EMG19_31_33_ten_3.txt',\n",
       " 'EMG19_31_33_three_1.txt',\n",
       " 'EMG19_31_33_three_2.txt',\n",
       " 'EMG19_31_33_three_3.txt']"
      ]
     },
     "execution_count": 3,
     "metadata": {},
     "output_type": "execute_result"
    }
   ],
   "source": [
    "dir_paths"
   ]
  },
  {
   "cell_type": "markdown",
   "metadata": {},
   "source": [
    "删除txt文件的第一段"
   ]
  },
  {
   "cell_type": "code",
   "execution_count": 3,
   "metadata": {},
   "outputs": [
    {
     "name": "stdout",
     "output_type": "stream",
     "text": [
      "0 EMG19_31_33_five_1.txt\n",
      "1 EMG19_31_33_five_2.txt\n",
      "2 EMG19_31_33_five_3.txt\n",
      "3 EMG19_31_33_good_1.txt\n",
      "4 EMG19_31_33_good_2.txt\n",
      "5 EMG19_31_33_good_3.txt\n",
      "6 EMG19_31_33_one_1.txt\n",
      "7 EMG19_31_33_one_2.txt\n",
      "8 EMG19_31_33_one_3.txt\n",
      "9 EMG19_31_33_six_1.txt\n",
      "10 EMG19_31_33_six_2.txt\n",
      "11 EMG19_31_33_six_3.txt\n",
      "12 EMG19_31_33_ten_1.txt\n",
      "13 EMG19_31_33_ten_2.txt\n",
      "14 EMG19_31_33_ten_3.txt\n",
      "15 EMG19_31_33_three_1.txt\n",
      "16 EMG19_31_33_three_2.txt\n",
      "17 EMG19_31_33_three_3.txt\n"
     ]
    }
   ],
   "source": [
    "#注意！！！！\n",
    "#这一段用一次后以后就再也用不着了，用处是就是删除txt文件第一行的\n",
    "for dir_path in (dir_paths):\n",
    "\n",
    "    \n",
    "    with open(filePath+dir_path,\"r\") as f:\n",
    "        lines = f.readlines()\n",
    "    with open(filePath+dir_path,\"w\",encoding=\"utf-8\") as f_w:\n",
    "        for line in lines:\n",
    "            if \"征窗宽度\" in line:\n",
    "                continue\n",
    "            f_w.write(line)\n",
    "    \n",
    "    "
   ]
  },
  {
   "cell_type": "markdown",
   "metadata": {},
   "source": [
    "把多个txt文件读进dataframe，然后合并"
   ]
  },
  {
   "cell_type": "code",
   "execution_count": 4,
   "metadata": {},
   "outputs": [],
   "source": [
    "map_dic={'five':5,'good':2,'one':1,'six':6,'ten':10,'three':3}\n",
    "data_dic={}\n",
    "for i,dir_path in enumerate(dir_paths):\n",
    "    data_dic[i]=pd.read_csv(filePath+dir_path,sep='\\s+')\n",
    "    data_dic[i]['label']=map_dic[dir_path[12:(12+(dir_path[12:].index('_')))]]\n",
    "\n",
    "data_train=pd.concat([data_dic[i] for i in data_dic.keys()],axis=0,join='inner') "
   ]
  },
  {
   "cell_type": "code",
   "execution_count": 5,
   "metadata": {},
   "outputs": [],
   "source": []
  },
  {
   "cell_type": "markdown",
   "metadata": {},
   "source": [
    "打乱顺序"
   ]
  },
  {
   "cell_type": "code",
   "execution_count": 6,
   "metadata": {},
   "outputs": [],
   "source": [
    "from sklearn.utils import shuffle\n",
    "data_raw = shuffle(data_train)\n",
    "x=data_raw.iloc[:,:-1]                    #此时x，y还是dataframe\n",
    "y=data_raw.iloc[:,-1]\n",
    "train=x.values\n",
    "target=y.values"
   ]
  },
  {
   "cell_type": "markdown",
   "metadata": {},
   "source": [
    "# 用不同的分类模型验证\n",
    "随机森林"
   ]
  },
  {
   "cell_type": "code",
   "execution_count": 7,
   "metadata": {},
   "outputs": [
    {
     "name": "stderr",
     "output_type": "stream",
     "text": [
      "D:\\Anaconda3\\lib\\site-packages\\sklearn\\ensemble\\weight_boosting.py:29: DeprecationWarning: numpy.core.umath_tests is an internal NumPy module and should not be imported. It will be removed in a future NumPy release.\n",
      "  from numpy.core.umath_tests import inner1d\n"
     ]
    },
    {
     "name": "stdout",
     "output_type": "stream",
     "text": [
      "[0.88461538 0.8988604  0.90883191 0.89316239 0.8974359 ]\n"
     ]
    }
   ],
   "source": [
    "from sklearn.model_selection import cross_val_score\n",
    "from sklearn.ensemble import RandomForestClassifier\n",
    "clf_RFC=RandomForestClassifier(n_estimators=50\n",
    "                             ,max_depth=2\n",
    "                             ,random_state=0\n",
    "                             ,n_jobs=-1\n",
    "                             )\n",
    "score_RFC=cross_val_score(clf_RFC,x,y,cv=5)\n",
    "print(score_RFC)\n",
    "\n"
   ]
  },
  {
   "cell_type": "markdown",
   "metadata": {},
   "source": [
    "使用logicalRegression"
   ]
  },
  {
   "cell_type": "code",
   "execution_count": 146,
   "metadata": {},
   "outputs": [
    {
     "data": {
      "text/plain": [
       "0.989749430523918"
      ]
     },
     "execution_count": 146,
     "metadata": {},
     "output_type": "execute_result"
    }
   ],
   "source": [
    "train=data_raw.iloc[:,1:-1]\n",
    "target=data_raw.iloc[:,-1]\n",
    "from sklearn.model_selection import train_test_split\n",
    "from sklearn.linear_model import LogisticRegression\n",
    "from sklearn.preprocessing import StandardScaler\n",
    "stdScaler=StandardScaler()\n",
    "X=stdScaler.fit_transform(train)\n",
    "X_train,X_test,y_train,y_test=train_test_split(train,target)\n",
    "clf=LogisticRegression(solver='lbfgs',multi_class='multinomial').fit(X_train,y_train)\n",
    "clf.score(X_test,y_test)"
   ]
  },
  {
   "cell_type": "markdown",
   "metadata": {},
   "source": [
    "K近邻"
   ]
  },
  {
   "cell_type": "code",
   "execution_count": 28,
   "metadata": {},
   "outputs": [
    {
     "name": "stdout",
     "output_type": "stream",
     "text": [
      "confusion matirx without nomalization\n",
      "[[115   0   1   1   0   0]\n",
      " [  0 115   0   1   1   0]\n",
      " [  1   0 115   1   0   0]\n",
      " [  0   0   0 117   0   0]\n",
      " [  0   0   0   0 117   0]\n",
      " [  0   0   0   0   0 117]]\n",
      "Normalize confusion matirx\n",
      "[[0.983 0.    0.009 0.009 0.    0.   ]\n",
      " [0.    0.983 0.    0.009 0.009 0.   ]\n",
      " [0.009 0.    0.983 0.009 0.    0.   ]\n",
      " [0.    0.    0.    1.    0.    0.   ]\n",
      " [0.    0.    0.    0.    1.    0.   ]\n",
      " [0.    0.    0.    0.    0.    1.   ]]\n"
     ]
    },
    {
     "data": {
      "image/png": "[encoded data removed]",
      "text/plain": [
       "<Figure size 432x288 with 2 Axes>"
      ]
     },
     "metadata": {
      "needs_background": "light"
     },
     "output_type": "display_data"
    },
    {
     "data": {
      "image/png": "[encoded data removed]",
      "text/plain": [
       "<Figure size 432x288 with 2 Axes>"
      ]
     },
     "metadata": {
      "needs_background": "light"
     },
     "output_type": "display_data"
    }
   ],
   "source": [
    "from sklearn.neighbors import KNeighborsClassifier\n",
    "clf_knn=KNeighborsClassifier(n_neighbors=3).fit(X_train,y_train)\n",
    "y_pred=clf_knn.predict(X_test)\n",
    "clf_knn.score(X_test,y_test)\n",
    "\n",
    "#画混淆矩阵\n",
    "#compute confusion matrix\n",
    "cnf_matrix=confusion_matrix(y_test,y_pred)\n",
    "\n",
    "#plot non-normalized confusion matirx\n",
    "plt.figure()\n",
    "plot_confusion_matrix(cnf_matrix,\n",
    "                     classes=class_names\n",
    "                     ,title='confusion matrix without normalization')\n",
    "#plot normalized confusion matirx\n",
    "plt.figure()\n",
    "plot_confusion_matrix(cnf_matrix,\n",
    "                     classes=class_names\n",
    "                      ,normalize=True\n",
    "                     ,title='confusion matrix with normalization') \n",
    "plt.show()"
   ]
  },
  {
   "cell_type": "code",
   "execution_count": 19,
   "metadata": {},
   "outputs": [
    {
     "name": "stdout",
     "output_type": "stream",
     "text": [
      "0 0.8846153846153846\n",
      "1 0.8988603988603988\n",
      "2 0.9088319088319088\n",
      "3 0.8931623931623932\n",
      "4 0.8974358974358975\n"
     ]
    }
   ],
   "source": [
    "from sklearn.model_selection import StratifiedKFold\n",
    "\n",
    "spt = StratifiedKFold(n_splits=5, random_state=42)\n",
    "for k,(train_index, test_index) in enumerate(spt.split(train, target)):\n",
    "    X_train,X_test,y_train,y_test=train[train_index],train[test_index],target[train_index],target[test_index]\n",
    "    clf_RFC=clf_RFC.fit(X_train,y_train)\n",
    "    print(k,clf_RFC.score(X_test,y_test))\n",
    "    cnf_matrix=confusion_matrix(y_test,clf_RFC.predict(X_test))\n",
    "    "
   ]
  },
  {
   "cell_type": "code",
   "execution_count": 20,
   "metadata": {},
   "outputs": [
    {
     "data": {
      "text/plain": [
       "array([[115,   0,   1,   0,   0,   1],\n",
       "       [  0,  80,   0,   3,  33,   1],\n",
       "       [  4,   0,  92,  21,   0,   0],\n",
       "       [  0,   0,   5, 112,   0,   0],\n",
       "       [  0,   0,   0,   0, 114,   3],\n",
       "       [  0,   0,   0,   0,   0, 117]], dtype=int64)"
      ]
     },
     "execution_count": 20,
     "metadata": {},
     "output_type": "execute_result"
    }
   ],
   "source": [
    "cnf_matrix"
   ]
  },
  {
   "cell_type": "markdown",
   "metadata": {},
   "source": [
    "# 混淆矩阵\n",
    "这是画出混淆矩阵热力图的通用函数\n"
   ]
  },
  {
   "cell_type": "code",
   "execution_count": 58,
   "metadata": {},
   "outputs": [],
   "source": [
    "import itertools\n",
    "import numpy as np\n",
    "import matplotlib.pyplot as plt\n",
    "from sklearn.linear_model import LogisticRegression\n",
    "\n",
    "from sklearn.metrics import confusion_matrix\n",
    "\n",
    "\n",
    "class_names=list(map_dic.keys())\n",
    "np.set_printoptions(precision=3)\n",
    "\n",
    "\n",
    "def plot_confusion_matrix(cm\n",
    "                          ,classes\n",
    "                          ,normalize=False\n",
    "                         ,title='confusion matirx'\n",
    "                         ,cmap=plt.cm.Blues\n",
    "                         ):\n",
    "    if normalize:\n",
    "        cm=cm.astype('float')/cm.sum(axis=1)[:,np.newaxis]\n",
    "        print('Normalize confusion matirx')\n",
    "        \n",
    "    else:\n",
    "        print('confusion matirx without nomalization')\n",
    "    print(cm)\n",
    "    \n",
    "    plt.imshow(cm,interpolation='nearest',cmap=cmap)\n",
    "    plt.title(title)\n",
    "    plt.colorbar()\n",
    "    tick_marks=np.arange(len(classes))\n",
    "    plt.xticks(tick_marks,classes,rotation=45)\n",
    "    plt.yticks(tick_marks,classes)\n",
    "    \n",
    "    fmt='.2f' if normalize else 'd'\n",
    "    thresh=cm.max()/2.\n",
    "    for i,j in itertools.product(range(cm.shape[0]),range(cm.shape[1])):\n",
    "        plt.text(j\n",
    "                ,i\n",
    "                ,format(cm[i,j],fmt)\n",
    "                ,horizontalalignment='center'\n",
    "                ,color='white' if cm[i,j]>thresh else 'black')\n",
    "        plt.ylabel('True label')\n",
    "        plt.xlabel('predicted label')\n",
    "        plt.tight_layout()\n",
    "        \n",
    "        \n",
    "        \n",
    "\n"
   ]
  },
  {
   "cell_type": "code",
   "execution_count": 27,
   "metadata": {},
   "outputs": [
    {
     "data": {
      "text/plain": [
       "116"
      ]
     },
     "execution_count": 27,
     "metadata": {},
     "output_type": "execute_result"
    }
   ],
   "source": [
    "sum(y_pred==1)"
   ]
  },
  {
   "cell_type": "markdown",
   "metadata": {},
   "source": [
    "# 模型调参\n"
   ]
  },
  {
   "cell_type": "markdown",
   "metadata": {},
   "source": [
    "通用的网格化搜索训练模型"
   ]
  },
  {
   "cell_type": "code",
   "execution_count": 55,
   "metadata": {},
   "outputs": [],
   "source": [
    "from sklearn.model_selection import RepeatedStratifiedKFold\n",
    "from sklearn.model_selection import GridSearchCV\n",
    "def train_model(model,param_grid=[],X=[],y=[],splits=5,repeats=5):\n",
    "    skfold = RepeatedStratifiedKFold(n_splits=splits,n_repeats=repeats)\n",
    "\n",
    "    gsearch=GridSearchCV(model\n",
    "                        ,param_grid\n",
    "                        ,cv=skfold\n",
    "                        ,scoring='f1_macro'                     #这里的是用于分类问题的,其他的根据具体情况选\n",
    "                        ,verbose=1\n",
    "                        ,return_train_score=True\n",
    "                        )\n",
    "    gsearch.fit(X,y)\n",
    "    model=gsearch.best_estimator_\n",
    "    best_idx=gsearch.best_index_\n",
    "    grid_results=pd.DataFrame(gsearch.cv_results_)\n",
    "    \n",
    "    \n",
    "    return model,grid_results\n",
    "opt_models=dict()\n",
    "splits=5\n",
    "repeats=5\n",
    "    \n",
    "    \n",
    "    \n",
    "        "
   ]
  },
  {
   "cell_type": "code",
   "execution_count": 57,
   "metadata": {},
   "outputs": [
    {
     "name": "stdout",
     "output_type": "stream",
     "text": [
      "Fitting 25 folds for each of 3 candidates, totalling 75 fits\n"
     ]
    },
    {
     "name": "stderr",
     "output_type": "stream",
     "text": [
      "[Parallel(n_jobs=1)]: Done  75 out of  75 | elapsed:   18.3s finished\n"
     ]
    },
    {
     "name": "stdout",
     "output_type": "stream",
     "text": [
      "confusion matirx without nomalization\n",
      "[[151   0   0   0   0   0]\n",
      " [  0 128   0   1   0   0]\n",
      " [  1   0 154   0   0   0]\n",
      " [  1   1   0 139   0   0]\n",
      " [  0   0   0   0 156   0]\n",
      " [  0   0   0   0   0 146]]\n",
      "Normalize confusion matirx\n",
      "[[1.    0.    0.    0.    0.    0.   ]\n",
      " [0.    0.992 0.    0.008 0.    0.   ]\n",
      " [0.006 0.    0.994 0.    0.    0.   ]\n",
      " [0.007 0.007 0.    0.986 0.    0.   ]\n",
      " [0.    0.    0.    0.    1.    0.   ]\n",
      " [0.    0.    0.    0.    0.    1.   ]]\n"
     ]
    },
    {
     "data": {
      "image/png": "[encoded data removed]",
      "text/plain": [
       "<Figure size 432x288 with 2 Axes>"
      ]
     },
     "metadata": {
      "needs_background": "light"
     },
     "output_type": "display_data"
    },
    {
     "data": {
      "image/png": "[encoded data removed]",
      "text/plain": [
       "<Figure size 432x288 with 2 Axes>"
      ]
     },
     "metadata": {
      "needs_background": "light"
     },
     "output_type": "display_data"
    }
   ],
   "source": [
    "model='KNeighborsClassifier'\n",
    "opt_models[model]=KNeighborsClassifier()\n",
    "param_grid={'n_neighbors':[3,4,5]}\n",
    "X_train,X_test,y_train,y_test=train_test_split(train,target,test_size=0.25)\n",
    "opt_models[model],grid_results=train_model(opt_models[model],param_grid=param_grid,X=X_train,y=y_train\n",
    "                                                    ,splits=splits,repeats=repeats)\n",
    "y_pred=opt_models[model].predict(X_test)\n",
    "\n",
    "#画混淆矩阵\n",
    "#compute confusion matrix\n",
    "cnf_matrix=confusion_matrix(y_test,y_pred)\n",
    "\n",
    "#plot non-normalized confusion matirx\n",
    "plt.figure()\n",
    "plot_confusion_matrix(cnf_matrix,\n",
    "                     classes=class_names\n",
    "                     ,title='confusion matrix without normalization')\n",
    "#plot normalized confusion matirx\n",
    "plt.figure()\n",
    "plot_confusion_matrix(cnf_matrix,\n",
    "                     classes=class_names\n",
    "                      ,normalize=True\n",
    "                     ,title='confusion matrix with normalization') \n",
    "plt.show()"
   ]
  },
  {
   "cell_type": "code",
   "execution_count": 48,
   "metadata": {},
   "outputs": [
    {
     "data": {
      "text/plain": [
       "{'KNeighborsClassifier': KNeighborsClassifier(algorithm='auto', leaf_size=30, metric='minkowski',\n",
       "            metric_params=None, n_jobs=1, n_neighbors=3, p=2,\n",
       "            weights='uniform')}"
      ]
     },
     "execution_count": 48,
     "metadata": {},
     "output_type": "execute_result"
    }
   ],
   "source": [
    "opt_models[model]."
   ]
  },
  {
   "cell_type": "code",
   "execution_count": 49,
   "metadata": {},
   "outputs": [
    {
     "data": {
      "text/html": [
       "<div>\n",
       "<style scoped>\n",
       "    .dataframe tbody tr th:only-of-type {\n",
       "        vertical-align: middle;\n",
       "    }\n",
       "\n",
       "    .dataframe tbody tr th {\n",
       "        vertical-align: top;\n",
       "    }\n",
       "\n",
       "    .dataframe thead th {\n",
       "        text-align: right;\n",
       "    }\n",
       "</style>\n",
       "<table border=\"1\" class=\"dataframe\">\n",
       "  <thead>\n",
       "    <tr style=\"text-align: right;\">\n",
       "      <th></th>\n",
       "      <th>mean_fit_time</th>\n",
       "      <th>std_fit_time</th>\n",
       "      <th>mean_score_time</th>\n",
       "      <th>std_score_time</th>\n",
       "      <th>param_n_neighbors</th>\n",
       "      <th>params</th>\n",
       "      <th>split0_test_score</th>\n",
       "      <th>split1_test_score</th>\n",
       "      <th>split2_test_score</th>\n",
       "      <th>split3_test_score</th>\n",
       "      <th>...</th>\n",
       "      <th>split17_train_score</th>\n",
       "      <th>split18_train_score</th>\n",
       "      <th>split19_train_score</th>\n",
       "      <th>split20_train_score</th>\n",
       "      <th>split21_train_score</th>\n",
       "      <th>split22_train_score</th>\n",
       "      <th>split23_train_score</th>\n",
       "      <th>split24_train_score</th>\n",
       "      <th>mean_train_score</th>\n",
       "      <th>std_train_score</th>\n",
       "    </tr>\n",
       "  </thead>\n",
       "  <tbody>\n",
       "    <tr>\n",
       "      <th>0</th>\n",
       "      <td>0.013311</td>\n",
       "      <td>0.001037</td>\n",
       "      <td>0.066362</td>\n",
       "      <td>0.003343</td>\n",
       "      <td>3</td>\n",
       "      <td>{'n_neighbors': 3}</td>\n",
       "      <td>0.991465</td>\n",
       "      <td>0.995733</td>\n",
       "      <td>0.995732</td>\n",
       "      <td>0.995726</td>\n",
       "      <td>...</td>\n",
       "      <td>0.997507</td>\n",
       "      <td>0.997508</td>\n",
       "      <td>0.997863</td>\n",
       "      <td>0.997863</td>\n",
       "      <td>0.997863</td>\n",
       "      <td>0.998219</td>\n",
       "      <td>0.997507</td>\n",
       "      <td>0.997152</td>\n",
       "      <td>0.997749</td>\n",
       "      <td>0.000373</td>\n",
       "    </tr>\n",
       "    <tr>\n",
       "      <th>1</th>\n",
       "      <td>0.012974</td>\n",
       "      <td>0.000491</td>\n",
       "      <td>0.071025</td>\n",
       "      <td>0.004882</td>\n",
       "      <td>4</td>\n",
       "      <td>{'n_neighbors': 4}</td>\n",
       "      <td>0.985733</td>\n",
       "      <td>0.997151</td>\n",
       "      <td>0.992895</td>\n",
       "      <td>0.994296</td>\n",
       "      <td>...</td>\n",
       "      <td>0.997864</td>\n",
       "      <td>0.995371</td>\n",
       "      <td>0.997150</td>\n",
       "      <td>0.997152</td>\n",
       "      <td>0.996083</td>\n",
       "      <td>0.996440</td>\n",
       "      <td>0.997151</td>\n",
       "      <td>0.994657</td>\n",
       "      <td>0.996781</td>\n",
       "      <td>0.000750</td>\n",
       "    </tr>\n",
       "    <tr>\n",
       "      <th>2</th>\n",
       "      <td>0.012997</td>\n",
       "      <td>0.000389</td>\n",
       "      <td>0.073812</td>\n",
       "      <td>0.002703</td>\n",
       "      <td>5</td>\n",
       "      <td>{'n_neighbors': 5}</td>\n",
       "      <td>0.985753</td>\n",
       "      <td>0.998575</td>\n",
       "      <td>0.990034</td>\n",
       "      <td>0.997151</td>\n",
       "      <td>...</td>\n",
       "      <td>0.995365</td>\n",
       "      <td>0.996084</td>\n",
       "      <td>0.996796</td>\n",
       "      <td>0.994655</td>\n",
       "      <td>0.995372</td>\n",
       "      <td>0.994657</td>\n",
       "      <td>0.996080</td>\n",
       "      <td>0.993944</td>\n",
       "      <td>0.995184</td>\n",
       "      <td>0.000919</td>\n",
       "    </tr>\n",
       "  </tbody>\n",
       "</table>\n",
       "<p>3 rows × 61 columns</p>\n",
       "</div>"
      ],
      "text/plain": [
       "   mean_fit_time  std_fit_time  mean_score_time  std_score_time  \\\n",
       "0       0.013311      0.001037         0.066362        0.003343   \n",
       "1       0.012974      0.000491         0.071025        0.004882   \n",
       "2       0.012997      0.000389         0.073812        0.002703   \n",
       "\n",
       "  param_n_neighbors              params  split0_test_score  split1_test_score  \\\n",
       "0                 3  {'n_neighbors': 3}           0.991465           0.995733   \n",
       "1                 4  {'n_neighbors': 4}           0.985733           0.997151   \n",
       "2                 5  {'n_neighbors': 5}           0.985753           0.998575   \n",
       "\n",
       "   split2_test_score  split3_test_score       ...         split17_train_score  \\\n",
       "0           0.995732           0.995726       ...                    0.997507   \n",
       "1           0.992895           0.994296       ...                    0.997864   \n",
       "2           0.990034           0.997151       ...                    0.995365   \n",
       "\n",
       "   split18_train_score  split19_train_score  split20_train_score  \\\n",
       "0             0.997508             0.997863             0.997863   \n",
       "1             0.995371             0.997150             0.997152   \n",
       "2             0.996084             0.996796             0.994655   \n",
       "\n",
       "   split21_train_score  split22_train_score  split23_train_score  \\\n",
       "0             0.997863             0.998219             0.997507   \n",
       "1             0.996083             0.996440             0.997151   \n",
       "2             0.995372             0.994657             0.996080   \n",
       "\n",
       "   split24_train_score  mean_train_score  std_train_score  \n",
       "0             0.997152          0.997749         0.000373  \n",
       "1             0.994657          0.996781         0.000750  \n",
       "2             0.993944          0.995184         0.000919  \n",
       "\n",
       "[3 rows x 61 columns]"
      ]
     },
     "execution_count": 49,
     "metadata": {},
     "output_type": "execute_result"
    }
   ],
   "source": [
    "grid_results"
   ]
  },
  {
   "cell_type": "code",
   "execution_count": null,
   "metadata": {},
   "outputs": [],
   "source": []
  }
 ],
 "metadata": {
  "kernelspec": {
   "display_name": "Python 3",
   "language": "python",
   "name": "python3"
  },
  "language_info": {
   "codemirror_mode": {
    "name": "ipython",
    "version": 3
   },
   "file_extension": ".py",
   "mimetype": "text/x-python",
   "name": "python",
   "nbconvert_exporter": "python",
   "pygments_lexer": "ipython3",
   "version": "3.7.0"
  }
 },
 "nbformat": 4,
 "nbformat_minor": 2
}
